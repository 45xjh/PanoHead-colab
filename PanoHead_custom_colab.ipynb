{
  "cells": [
    {
      "cell_type": "markdown",
      "metadata": {
        "id": "view-in-github"
      },
      "source": [
        "[![Open In Colab](https://colab.research.google.com/assets/colab-badge.svg)](https://colab.research.google.com/github/camenduru/PanoHead-colab/blob/main/PanoHead_custom_colab.ipynb)"
      ]
    },
    {
      "cell_type": "code",
      "execution_count": null,
      "metadata": {
        "id": "c-JdJwOaMWiS"
      },
      "outputs": [],
      "source": [
        "%cd /content\n",
        "!git clone -b dev1 https://github.com/camenduru/PanoHead\n",
        "\n",
        "!apt -y install -qq aria2\n",
        "!aria2c --console-log-level=error -c -x 16 -s 16 -k 1M https://huggingface.co/camenduru/PanoHead/resolve/main/ablation-trigridD-1-025000.pkl -d /content/PanoHead/models -o ablation-trigridD-1-025000.pkl\n",
        "!aria2c --console-log-level=error -c -x 16 -s 16 -k 1M https://huggingface.co/camenduru/PanoHead/resolve/main/baseline-easy-khair-025000.pkl -d /content/PanoHead/models -o baseline-easy-khair-025000.pkl\n",
        "!aria2c --console-log-level=error -c -x 16 -s 16 -k 1M https://huggingface.co/camenduru/PanoHead/resolve/main/easy-khair-180-gpc0.8-trans10-025000.pkl -d /content/PanoHead/models -o easy-khair-180-gpc0.8-trans10-025000.pkl\n",
        "\n",
        "!pip install imgui glfw pyspng mrcfile ninja plyfile trimesh onnxruntime onnx\n",
        "\n",
        "%cd /content\n",
        "!git clone -b dev https://github.com/camenduru/3DDFA_V2\n",
        "%cd /content/3DDFA_V2\n",
        "!sh ./build.sh\n",
        "\n",
        "!cp -rf /content/PanoHead/3DDFA_V2_cropping/test /content/3DDFA_V2\n",
        "!cp /content/PanoHead/3DDFA_V2_cropping/dlib_kps.py /content/3DDFA_V2\n",
        "!cp /content/PanoHead/3DDFA_V2_cropping/recrop_images.py /content/3DDFA_V2\n",
        "\n",
        "!aria2c --console-log-level=error -c -x 16 -s 16 -k 1M https://huggingface.co/camenduru/shape_predictor_68_face_landmarks/resolve/main/shape_predictor_68_face_landmarks.dat -d /content/3DDFA_V2 -o shape_predictor_68_face_landmarks.dat"
      ]
    },
    {
      "cell_type": "code",
      "execution_count": null,
      "metadata": {},
      "outputs": [],
      "source": [
        "%cd /content/3DDFA_V2\n",
        "!python dlib_kps.py\n",
        "!python recrop_images.py -i data.pkl -j dataset.json\n",
        "\n",
        "!mkdir /content/input\n",
        "!cp -rf /content/3DDFA_V2/crop_samples/img/* /content/input"
      ]
    },
    {
      "cell_type": "code",
      "execution_count": null,
      "metadata": {},
      "outputs": [],
      "source": [
        "%cd /content/PanoHead\n",
        "!./gen_pti_script.sh"
      ]
    }
  ],
  "metadata": {
    "accelerator": "GPU",
    "colab": {
      "gpuType": "T4",
      "provenance": []
    },
    "kernelspec": {
      "display_name": "Python 3",
      "name": "python3"
    },
    "language_info": {
      "name": "python"
    }
  },
  "nbformat": 4,
  "nbformat_minor": 0
}
